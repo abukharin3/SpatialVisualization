{
 "cells": [
  {
   "cell_type": "code",
   "execution_count": 71,
   "metadata": {},
   "outputs": [],
   "source": [
    "import numpy as np\n",
    "import matplotlib.pyplot as plt"
   ]
  },
  {
   "cell_type": "code",
   "execution_count": 81,
   "metadata": {},
   "outputs": [],
   "source": [
    "class lin_reg:\n",
    "    def __init__(self, num_dim):\n",
    "        self.num_dim = num_dim\n",
    "        self.coeff = np.ones(num_dim)\n",
    "        \n",
    "    def predict(self, x):\n",
    "        return np.matmul(self.coeff, x)\n",
    "        \n",
    "    def loss(self, x, y):\n",
    "        return (1/2) * np.sum((self.predict(x) - y) ** 2)\n",
    "    \n",
    "    def gradient_descent(self, x, y, step_size):\n",
    "        \n",
    "        for j in range(100000):\n",
    "            # Calculate gradient\n",
    "            grad = np.zeros(self.num_dim)\n",
    "            for i in range(self.num_dim):\n",
    "                grad[i] = np.sum((self.predict(x) - y) * x[i, :])\n",
    "\n",
    "            #Adjust weights accordingly\n",
    "            self.coeff = self.coeff - step_size * grad\n",
    "        \n",
    "                   \n",
    "        "
   ]
  },
  {
   "cell_type": "code",
   "execution_count": 82,
   "metadata": {},
   "outputs": [],
   "source": [
    "# Load Data\n",
    "# Remember to add a constant column to X\n",
    "x_path = r\"C:\\Users\\Alexander\\Desktop\\compstat\\Homework2\\data\\rx.dat\"\n",
    "y_path = r\"C:\\Users\\Alexander\\Desktop\\compstat\\Homework2\\data\\ry.dat\"\n",
    "x_data = np.loadtxt(x_path)\n",
    "y = np.loadtxt(y_path)\n",
    "x = np.array([np.ones(len(x_data)), x_data])"
   ]
  },
  {
   "cell_type": "code",
   "execution_count": 83,
   "metadata": {},
   "outputs": [],
   "source": [
    "lr = lin_reg(len(x))\n",
    "lr.gradient_descent(x, y, 0.000001)"
   ]
  },
  {
   "cell_type": "code",
   "execution_count": 84,
   "metadata": {},
   "outputs": [
    {
     "data": {
      "text/plain": [
       "<matplotlib.collections.PathCollection at 0x1ad3f50ca20>"
      ]
     },
     "execution_count": 84,
     "metadata": {},
     "output_type": "execute_result"
    },
    {
     "data": {
      "image/png": "[encoded data removed]",
      "text/plain": [
       "<Figure size 432x288 with 1 Axes>"
      ]
     },
     "metadata": {
      "needs_background": "light"
     },
     "output_type": "display_data"
    }
   ],
   "source": [
    "plt.plot(x[1, :], lr.predict(x))\n",
    "plt.scatter(x[1, :], y)"
   ]
  },
  {
   "cell_type": "code",
   "execution_count": 85,
   "metadata": {},
   "outputs": [],
   "source": [
    "class weighted_lin_reg:\n",
    "    def __init__(self, num_dim):\n",
    "        self.num_dim = num_dim\n",
    "        self.coeff = np.ones(num_dim)\n",
    "        \n",
    "    def predict(self, x, weights):\n",
    "        return np.matmul(self.coeff, x)\n",
    "    \n",
    "    def loss(self, x, y, weights):\n",
    "        return (1/2) * np.sum(weights * (self.predict(x) - y) ** 2)\n",
    "    \n",
    "    def gradient_descent(self, x, y, weights, step_size):\n",
    "        \n",
    "        for j in range(100000):\n",
    "            # Calculate gradient\n",
    "            grad = np.zeros(self.num_dim)\n",
    "            for i in range(self.num_dim):\n",
    "                grad[i] = np.sum(weights * (self.predict(x) - y) * x[i, :])\n",
    "\n",
    "            #Adjust weights accordingly\n",
    "            self.coeff = self.coeff - step_size * grad\n",
    "    "
   ]
  },
  {
   "cell_type": "code",
   "execution_count": null,
   "metadata": {},
   "outputs": [],
   "source": [
    "wlr = weighted_lin_reg()\n"
   ]
  }
 ],
 "metadata": {
  "kernelspec": {
   "display_name": "Python 3",
   "language": "python",
   "name": "python3"
  },
  "language_info": {
   "codemirror_mode": {
    "name": "ipython",
    "version": 3
   },
   "file_extension": ".py",
   "mimetype": "text/x-python",
   "name": "python",
   "nbconvert_exporter": "python",
   "pygments_lexer": "ipython3",
   "version": "3.6.7"
  }
 },
 "nbformat": 4,
 "nbformat_minor": 2
}
