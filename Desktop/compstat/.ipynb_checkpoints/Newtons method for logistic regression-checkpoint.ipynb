{
 "cells": [
  {
   "cell_type": "code",
   "execution_count": 9,
   "metadata": {},
   "outputs": [],
   "source": [
    "import numpy as np\n",
    "import matplotlib.pyplot as plt"
   ]
  },
  {
   "cell_type": "code",
   "execution_count": 39,
   "metadata": {},
   "outputs": [],
   "source": [
    "# Logistic regression class\n",
    "class logisticRegression:\n",
    "    def __init__(self, a = np.array([0.0, 0.0]).T, b = 0.0):\n",
    "        # Initialize a and b\n",
    "        self.a = a\n",
    "        self.b = b\n",
    "        \n",
    "    def sigmoid(self, x):\n",
    "        # Sigmoid function\n",
    "        return 1 / (1 + np.exp(-np.matmul(self.a, x.T) - self.b))\n",
    "    \n",
    "    def log_like(self, x, y):\n",
    "        # Calculate log-likelihood\n",
    "        return np.sum(y * np.log(self.sigmoid(x)) + (1 - y) * np.log(1 - self.sigmoid(x)))\n",
    "    \n",
    "    def hessian(self, x, y):\n",
    "        # calculate hessian of likelihood function with respect to weights. We calculate element-wise\n",
    "        h11 = np.sum(x[:, 0] * x[:, 0] * self.sigmoid(x) * (1 - self.sigmoid(x)))\n",
    "        h12 = np.sum(x[:, 0] * x[:, 1] * self.sigmoid(x) * (1 - self.sigmoid(x)))\n",
    "        h13 = np.sum(x[:, 0] * self.sigmoid(x) * (1 - self.sigmoid(x)))\n",
    "        h22 = np.sum(x[:, 1] * x[:, 1] * self.sigmoid(x) * (1 - self.sigmoid(x)))\n",
    "        h23 = np.sum(x[:, 1] * self.sigmoid(x) * (1 - self.sigmoid(x)))\n",
    "        h33 = np.sum(self.sigmoid(x) * (1 - self.sigmoid(x)))\n",
    "        \n",
    "        return np.array([np.array([h11, h12, h13]), np.array([h12, h22, h23]), np.array([h13, h23, h33])])\n",
    "    \n",
    "    def gradient(self, x, y):\n",
    "        # Calculate gradient of likelihood function\n",
    "        a_gradient1 = np.sum(y * (1 - self.sigmoid(x)) * x[:, 0] - (1 - y) * self.sigmoid(x) * x[:, 0])\n",
    "        a_gradient2 = np.sum(y * (1 - self.sigmoid(x)) * x[:, 1] - (1 - y) * self.sigmoid(x) * x[:, 1])\n",
    "        b_gradient = np.sum(y * (1 - self.sigmoid(x)) - (1 - y) * self.sigmoid(x))\n",
    "        return -1 * np.array([a_gradient1, a_gradient2, b_gradient])\n",
    "        \n",
    "    def newtons_method(self, x, y, step_size):\n",
    "        # Iteratively apply newtons method\n",
    "        log_l = []\n",
    "        num_iterations = 0\n",
    "        past_like = -1000000000\n",
    "        while self.log_like(x, y) - past_like > 0.0000001:\n",
    "            num_iterations += 1\n",
    "            past_like = self.log_like(x, y)\n",
    "            hess = self.hessian(x, y)\n",
    "            hess_inv = np.linalg.inv(hess)\n",
    "            grad = self.gradient(x, y)\n",
    "            self.a[0] = self.a[0] - step_size * np.matmul(hess_inv, grad)[0]\n",
    "            self.a[1] = self.a[1] - step_size * np.matmul(hess_inv, grad)[1]\n",
    "            self.b = self.b - step_size * np.matmul(hess_inv, grad)[2]\n",
    "            log_l.append(self.log_like(x, y))\n",
    "        \n",
    "        plt.plot(range(num_iterations), log_l)\n",
    "        plt.xlabel(\"Iterations\")\n",
    "        plt.ylabel(\"Log-Likelihood\")\n",
    "        plt.title(\"Log-Likelihood Optimization\")\n",
    "        plt.savefig(\"log_loss_visualtion.png\")"
   ]
  },
  {
   "cell_type": "code",
   "execution_count": 40,
   "metadata": {},
   "outputs": [],
   "source": [
    "# Data\n",
    "x_path = r\"C:\\Users\\Alexander\\Desktop\\compstat\\Homework2\\data\\logit-x.dat\"\n",
    "y_path = r\"C:\\Users\\Alexander\\Desktop\\compstat\\Homework2\\data\\logit-y.dat\"\n",
    "x = np.loadtxt(x_path)\n",
    "y = np.loadtxt(y_path)"
   ]
  },
  {
   "cell_type": "code",
   "execution_count": 41,
   "metadata": {},
   "outputs": [
    {
     "data": {
      "image/png": "[encoded data removed]",
      "text/plain": [
       "<Figure size 432x288 with 1 Axes>"
      ]
     },
     "metadata": {
      "needs_background": "light"
     },
     "output_type": "display_data"
    }
   ],
   "source": [
    "lg = logisticRegression()\n",
    "lg.newtons_method(x, y, .0001)"
   ]
  }
 ],
 "metadata": {
  "kernelspec": {
   "display_name": "Python 3",
   "language": "python",
   "name": "python3"
  },
  "language_info": {
   "codemirror_mode": {
    "name": "ipython",
    "version": 3
   },
   "file_extension": ".py",
   "mimetype": "text/x-python",
   "name": "python",
   "nbconvert_exporter": "python",
   "pygments_lexer": "ipython3",
   "version": "3.6.7"
  }
 },
 "nbformat": 4,
 "nbformat_minor": 2
}
